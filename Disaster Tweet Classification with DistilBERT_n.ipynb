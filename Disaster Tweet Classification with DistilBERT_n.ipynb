{
 "cells": [
  {
   "cell_type": "markdown",
   "id": "f1ce00e7-d44f-4d36-8c67-2b6e81b33faa",
   "metadata": {},
   "source": [
    "# Natural Language Processing with Disaster Tweets - Kaggle Competition\n",
    "In this project, the aim to classify tweets as either disaster-related or not.\n",
    "### Project Repository\n",
    "Full project repository on GitHub: [Disaster Tweet Classification](https://github.com/2salmans24/Disaster-Tweet-Classification/tree/main)\n",
    "#### This notebook outlines the following steps:\n",
    "1. Problem and Data Description\n",
    "2. Exploratory Data Analysis (EDA)\n",
    "3. Text Preprocessing and Embedding\n",
    "4. Model Architecture and Training\n",
    "5. Results Analysis and Conclusion\n"
   ]
  },
  {
   "cell_type": "code",
   "execution_count": 1,
   "id": "ff03df41-eaa1-4974-bf4c-c6d241033365",
   "metadata": {},
   "outputs": [
    {
     "name": "stdout",
     "output_type": "stream",
     "text": [
      "Requirement already satisfied: seaborn in /opt/conda/envs/py_3.10/lib/python3.10/site-packages (0.13.2)\n",
      "Collecting numpy!=1.24.0,>=1.20 (from seaborn)\n",
      "  Downloading numpy-2.1.3-cp310-cp310-manylinux_2_17_x86_64.manylinux2014_x86_64.whl.metadata (62 kB)\n",
      "Requirement already satisfied: pandas>=1.2 in /opt/conda/envs/py_3.10/lib/python3.10/site-packages (from seaborn) (2.2.3)\n",
      "Requirement already satisfied: matplotlib!=3.6.1,>=3.4 in /opt/conda/envs/py_3.10/lib/python3.10/site-packages (from seaborn) (3.9.2)\n",
      "Requirement already satisfied: contourpy>=1.0.1 in /opt/conda/envs/py_3.10/lib/python3.10/site-packages (from matplotlib!=3.6.1,>=3.4->seaborn) (1.3.0)\n",
      "Requirement already satisfied: cycler>=0.10 in /opt/conda/envs/py_3.10/lib/python3.10/site-packages (from matplotlib!=3.6.1,>=3.4->seaborn) (0.12.1)\n",
      "Requirement already satisfied: fonttools>=4.22.0 in /opt/conda/envs/py_3.10/lib/python3.10/site-packages (from matplotlib!=3.6.1,>=3.4->seaborn) (4.54.1)\n",
      "Requirement already satisfied: kiwisolver>=1.3.1 in /opt/conda/envs/py_3.10/lib/python3.10/site-packages (from matplotlib!=3.6.1,>=3.4->seaborn) (1.4.7)\n",
      "Requirement already satisfied: packaging>=20.0 in /opt/conda/envs/py_3.10/lib/python3.10/site-packages (from matplotlib!=3.6.1,>=3.4->seaborn) (24.1)\n",
      "Requirement already satisfied: pillow>=8 in /opt/conda/envs/py_3.10/lib/python3.10/site-packages (from matplotlib!=3.6.1,>=3.4->seaborn) (10.2.0)\n",
      "Requirement already satisfied: pyparsing>=2.3.1 in /opt/conda/envs/py_3.10/lib/python3.10/site-packages (from matplotlib!=3.6.1,>=3.4->seaborn) (3.2.0)\n",
      "Requirement already satisfied: python-dateutil>=2.7 in /opt/conda/envs/py_3.10/lib/python3.10/site-packages (from matplotlib!=3.6.1,>=3.4->seaborn) (2.9.0.post0)\n",
      "Requirement already satisfied: pytz>=2020.1 in /opt/conda/envs/py_3.10/lib/python3.10/site-packages (from pandas>=1.2->seaborn) (2024.2)\n",
      "Requirement already satisfied: tzdata>=2022.7 in /opt/conda/envs/py_3.10/lib/python3.10/site-packages (from pandas>=1.2->seaborn) (2024.2)\n",
      "Requirement already satisfied: six>=1.5 in /opt/conda/envs/py_3.10/lib/python3.10/site-packages (from python-dateutil>=2.7->matplotlib!=3.6.1,>=3.4->seaborn) (1.16.0)\n",
      "Downloading numpy-2.1.3-cp310-cp310-manylinux_2_17_x86_64.manylinux2014_x86_64.whl (16.3 MB)\n",
      "\u001b[2K   \u001b[90m━━━━━━━━━━━━━━━━━━━━━━━━━━━━━━━━━━━━━━━━\u001b[0m \u001b[32m16.3/16.3 MB\u001b[0m \u001b[31m69.0 MB/s\u001b[0m eta \u001b[36m0:00:00\u001b[0ma \u001b[36m0:00:01\u001b[0m\n",
      "\u001b[?25hInstalling collected packages: numpy\n",
      "  Attempting uninstall: numpy\n",
      "    Found existing installation: numpy 1.24.0\n",
      "    Uninstalling numpy-1.24.0:\n",
      "      Successfully uninstalled numpy-1.24.0\n",
      "\u001b[31mERROR: pip's dependency resolver does not currently take into account all the packages that are installed. This behaviour is the source of the following dependency conflicts.\n",
      "catboost 1.2.7 requires numpy<2.0,>=1.16.0, but you have numpy 2.1.3 which is incompatible.\n",
      "numba 0.55.2 requires numpy<1.23,>=1.18, but you have numpy 2.1.3 which is incompatible.\n",
      "scipy 1.10.0 requires numpy<1.27.0,>=1.19.5, but you have numpy 2.1.3 which is incompatible.\n",
      "tensorflow 2.18.0 requires numpy<2.1.0,>=1.26.0, but you have numpy 2.1.3 which is incompatible.\n",
      "tensorflow-rocm 2.16.1 requires ml-dtypes~=0.3.1, but you have ml-dtypes 0.4.1 which is incompatible.\n",
      "tensorflow-rocm 2.16.1 requires numpy<2.0.0,>=1.23.5; python_version <= \"3.11\", but you have numpy 2.1.3 which is incompatible.\n",
      "tensorflow-rocm 2.16.1 requires tensorboard<2.17,>=2.16, but you have tensorboard 2.18.0 which is incompatible.\n",
      "torchvision 0.18.0a0+68ba7ec requires numpy<2, but you have numpy 2.1.3 which is incompatible.\u001b[0m\u001b[31m\n",
      "\u001b[0mSuccessfully installed numpy-2.1.3\n",
      "\u001b[33mWARNING: Running pip as the 'root' user can result in broken permissions and conflicting behaviour with the system package manager, possibly rendering your system unusable.It is recommended to use a virtual environment instead: https://pip.pypa.io/warnings/venv. Use the --root-user-action option if you know what you are doing and want to suppress this warning.\u001b[0m\u001b[33m\n",
      "\u001b[0mCollecting numpy==1.24.0\n",
      "  Using cached numpy-1.24.0-cp310-cp310-manylinux_2_17_x86_64.manylinux2014_x86_64.whl.metadata (5.6 kB)\n",
      "Requirement already satisfied: scipy==1.10.0 in /opt/conda/envs/py_3.10/lib/python3.10/site-packages (1.10.0)\n",
      "Using cached numpy-1.24.0-cp310-cp310-manylinux_2_17_x86_64.manylinux2014_x86_64.whl (17.3 MB)\n",
      "Installing collected packages: numpy\n",
      "  Attempting uninstall: numpy\n",
      "    Found existing installation: numpy 2.1.3\n",
      "    Uninstalling numpy-2.1.3:\n",
      "      Successfully uninstalled numpy-2.1.3\n",
      "\u001b[31mERROR: pip's dependency resolver does not currently take into account all the packages that are installed. This behaviour is the source of the following dependency conflicts.\n",
      "numba 0.55.2 requires numpy<1.23,>=1.18, but you have numpy 1.24.0 which is incompatible.\n",
      "seaborn 0.13.2 requires numpy!=1.24.0,>=1.20, but you have numpy 1.24.0 which is incompatible.\n",
      "tensorflow 2.18.0 requires numpy<2.1.0,>=1.26.0, but you have numpy 1.24.0 which is incompatible.\n",
      "tensorflow-rocm 2.16.1 requires ml-dtypes~=0.3.1, but you have ml-dtypes 0.4.1 which is incompatible.\n",
      "tensorflow-rocm 2.16.1 requires tensorboard<2.17,>=2.16, but you have tensorboard 2.18.0 which is incompatible.\u001b[0m\u001b[31m\n",
      "\u001b[0mSuccessfully installed numpy-1.24.0\n",
      "\u001b[33mWARNING: Running pip as the 'root' user can result in broken permissions and conflicting behaviour with the system package manager, possibly rendering your system unusable.It is recommended to use a virtual environment instead: https://pip.pypa.io/warnings/venv. Use the --root-user-action option if you know what you are doing and want to suppress this warning.\u001b[0m\u001b[33m\n",
      "\u001b[0m"
     ]
    }
   ],
   "source": [
    "!pip install seaborn\n",
    "!pip install numpy==1.24.0 scipy==1.10.0\n"
   ]
  },
  {
   "cell_type": "code",
   "execution_count": 2,
   "id": "dafbfee1-b3ed-4f24-9f1f-3328b9c56efe",
   "metadata": {},
   "outputs": [
    {
     "ename": "NameError",
     "evalue": "name 'tf' is not defined",
     "output_type": "error",
     "traceback": [
      "\u001b[0;31m---------------------------------------------------------------------------\u001b[0m",
      "\u001b[0;31mNameError\u001b[0m                                 Traceback (most recent call last)",
      "Cell \u001b[0;32mIn[2], line 3\u001b[0m\n\u001b[1;32m      1\u001b[0m \u001b[38;5;28;01mimport\u001b[39;00m \u001b[38;5;21;01mos\u001b[39;00m\n\u001b[1;32m      2\u001b[0m os\u001b[38;5;241m.\u001b[39menviron[\u001b[38;5;124m'\u001b[39m\u001b[38;5;124mTF_CPP_MIN_LOG_LEVEL\u001b[39m\u001b[38;5;124m'\u001b[39m] \u001b[38;5;241m=\u001b[39m \u001b[38;5;124m'\u001b[39m\u001b[38;5;124m1\u001b[39m\u001b[38;5;124m'\u001b[39m  \u001b[38;5;66;03m# Suppress info and warnings\u001b[39;00m\n\u001b[0;32m----> 3\u001b[0m \u001b[38;5;28mprint\u001b[39m(\u001b[38;5;124m\"\u001b[39m\u001b[38;5;124mNum GPUs Available: \u001b[39m\u001b[38;5;124m\"\u001b[39m, \u001b[38;5;28mlen\u001b[39m(\u001b[43mtf\u001b[49m\u001b[38;5;241m.\u001b[39mconfig\u001b[38;5;241m.\u001b[39mexperimental\u001b[38;5;241m.\u001b[39mlist_physical_devices(\u001b[38;5;124m'\u001b[39m\u001b[38;5;124mGPU\u001b[39m\u001b[38;5;124m'\u001b[39m)))\n",
      "\u001b[0;31mNameError\u001b[0m: name 'tf' is not defined"
     ]
    }
   ],
   "source": [
    "import os\n",
    "os.environ['TF_CPP_MIN_LOG_LEVEL'] = '1'  # Suppress info and warnings\n",
    "print(\"Num GPUs Available: \", len(tf.config.experimental.list_physical_devices('GPU')))\n"
   ]
  },
  {
   "cell_type": "code",
   "execution_count": 3,
   "id": "22a8f5c9-f630-4d54-a425-67077173e70c",
   "metadata": {},
   "outputs": [
    {
     "name": "stderr",
     "output_type": "stream",
     "text": [
      "2024-11-09 05:29:37.540856: E external/local_xla/xla/stream_executor/cuda/cuda_fft.cc:477] Unable to register cuFFT factory: Attempting to register factory for plugin cuFFT when one has already been registered\n",
      "WARNING: All log messages before absl::InitializeLog() is called are written to STDERR\n",
      "E0000 00:00:1731130177.550203    3127 cuda_dnn.cc:8310] Unable to register cuDNN factory: Attempting to register factory for plugin cuDNN when one has already been registered\n",
      "E0000 00:00:1731130177.552863    3127 cuda_blas.cc:1418] Unable to register cuBLAS factory: Attempting to register factory for plugin cuBLAS when one has already been registered\n"
     ]
    }
   ],
   "source": [
    "# Importing necessary libraries\n",
    "import pandas as pd\n",
    "import numpy as np\n",
    "import matplotlib.pyplot as plt\n",
    "import seaborn as sns\n",
    "import tensorflow as tf\n",
    "from tensorflow.keras.models import Sequential\n",
    "from tensorflow.keras.layers import Dense, Dropout\n",
    "from sklearn.model_selection import train_test_split\n",
    "from sklearn.feature_extraction.text import TfidfVectorizer\n",
    "from sklearn.metrics import classification_report, accuracy_score\n",
    "import re\n"
   ]
  },
  {
   "cell_type": "markdown",
   "id": "5d3b02a1-3f49-4cb7-a47f-6d2050ef2a30",
   "metadata": {},
   "source": [
    "## Exploratory Data Analysis (EDA),\n",
    "### Loading the Dataset\n",
    "I'll load the train and test datasets.\n"
   ]
  },
  {
   "cell_type": "code",
   "execution_count": 4,
   "id": "7ae3b3f8-f1ef-40f5-b170-70b2b1fb69c6",
   "metadata": {},
   "outputs": [
    {
     "data": {
      "text/html": [
       "<div>\n",
       "<style scoped>\n",
       "    .dataframe tbody tr th:only-of-type {\n",
       "        vertical-align: middle;\n",
       "    }\n",
       "\n",
       "    .dataframe tbody tr th {\n",
       "        vertical-align: top;\n",
       "    }\n",
       "\n",
       "    .dataframe thead th {\n",
       "        text-align: right;\n",
       "    }\n",
       "</style>\n",
       "<table border=\"1\" class=\"dataframe\">\n",
       "  <thead>\n",
       "    <tr style=\"text-align: right;\">\n",
       "      <th></th>\n",
       "      <th>id</th>\n",
       "      <th>keyword</th>\n",
       "      <th>location</th>\n",
       "      <th>text</th>\n",
       "      <th>target</th>\n",
       "    </tr>\n",
       "  </thead>\n",
       "  <tbody>\n",
       "    <tr>\n",
       "      <th>0</th>\n",
       "      <td>1</td>\n",
       "      <td>NaN</td>\n",
       "      <td>NaN</td>\n",
       "      <td>Our Deeds are the Reason of this #earthquake M...</td>\n",
       "      <td>1</td>\n",
       "    </tr>\n",
       "    <tr>\n",
       "      <th>1</th>\n",
       "      <td>4</td>\n",
       "      <td>NaN</td>\n",
       "      <td>NaN</td>\n",
       "      <td>Forest fire near La Ronge Sask. Canada</td>\n",
       "      <td>1</td>\n",
       "    </tr>\n",
       "    <tr>\n",
       "      <th>2</th>\n",
       "      <td>5</td>\n",
       "      <td>NaN</td>\n",
       "      <td>NaN</td>\n",
       "      <td>All residents asked to 'shelter in place' are ...</td>\n",
       "      <td>1</td>\n",
       "    </tr>\n",
       "    <tr>\n",
       "      <th>3</th>\n",
       "      <td>6</td>\n",
       "      <td>NaN</td>\n",
       "      <td>NaN</td>\n",
       "      <td>13,000 people receive #wildfires evacuation or...</td>\n",
       "      <td>1</td>\n",
       "    </tr>\n",
       "    <tr>\n",
       "      <th>4</th>\n",
       "      <td>7</td>\n",
       "      <td>NaN</td>\n",
       "      <td>NaN</td>\n",
       "      <td>Just got sent this photo from Ruby #Alaska as ...</td>\n",
       "      <td>1</td>\n",
       "    </tr>\n",
       "  </tbody>\n",
       "</table>\n",
       "</div>"
      ],
      "text/plain": [
       "   id keyword location                                               text  \\\n",
       "0   1     NaN      NaN  Our Deeds are the Reason of this #earthquake M...   \n",
       "1   4     NaN      NaN             Forest fire near La Ronge Sask. Canada   \n",
       "2   5     NaN      NaN  All residents asked to 'shelter in place' are ...   \n",
       "3   6     NaN      NaN  13,000 people receive #wildfires evacuation or...   \n",
       "4   7     NaN      NaN  Just got sent this photo from Ruby #Alaska as ...   \n",
       "\n",
       "   target  \n",
       "0       1  \n",
       "1       1  \n",
       "2       1  \n",
       "3       1  \n",
       "4       1  "
      ]
     },
     "execution_count": 4,
     "metadata": {},
     "output_type": "execute_result"
    }
   ],
   "source": [
    "# Load datasets\n",
    "train_data = pd.read_csv('/container_data/train.csv')\n",
    "test_data = pd.read_csv('/container_data/test.csv')\n",
    "\n",
    "train_data.head()\n"
   ]
  },
  {
   "cell_type": "markdown",
   "id": "be95314b-8b57-47dd-92fd-26a4c9282790",
   "metadata": {},
   "source": [
    "### Quick Look at the Data\n",
    "checking the structure of the training and test data to understand the available features and data types.\n"
   ]
  },
  {
   "cell_type": "code",
   "execution_count": 5,
   "id": "99a3715d-45a8-4dac-9461-1d32fe13744f",
   "metadata": {},
   "outputs": [
    {
     "name": "stdout",
     "output_type": "stream",
     "text": [
      "Train Data Info:\n",
      "<class 'pandas.core.frame.DataFrame'>\n",
      "RangeIndex: 7613 entries, 0 to 7612\n",
      "Data columns (total 5 columns):\n",
      " #   Column    Non-Null Count  Dtype \n",
      "---  ------    --------------  ----- \n",
      " 0   id        7613 non-null   int64 \n",
      " 1   keyword   7552 non-null   object\n",
      " 2   location  5080 non-null   object\n",
      " 3   text      7613 non-null   object\n",
      " 4   target    7613 non-null   int64 \n",
      "dtypes: int64(2), object(3)\n",
      "memory usage: 297.5+ KB\n",
      "None\n",
      "\n",
      "Train Data Sample:\n",
      "   id keyword location                                               text  \\\n",
      "0   1     NaN      NaN  Our Deeds are the Reason of this #earthquake M...   \n",
      "1   4     NaN      NaN             Forest fire near La Ronge Sask. Canada   \n",
      "2   5     NaN      NaN  All residents asked to 'shelter in place' are ...   \n",
      "3   6     NaN      NaN  13,000 people receive #wildfires evacuation or...   \n",
      "4   7     NaN      NaN  Just got sent this photo from Ruby #Alaska as ...   \n",
      "\n",
      "   target  \n",
      "0       1  \n",
      "1       1  \n",
      "2       1  \n",
      "3       1  \n",
      "4       1  \n",
      "\n",
      "Test Data Info:\n",
      "<class 'pandas.core.frame.DataFrame'>\n",
      "RangeIndex: 3263 entries, 0 to 3262\n",
      "Data columns (total 4 columns):\n",
      " #   Column    Non-Null Count  Dtype \n",
      "---  ------    --------------  ----- \n",
      " 0   id        3263 non-null   int64 \n",
      " 1   keyword   3237 non-null   object\n",
      " 2   location  2158 non-null   object\n",
      " 3   text      3263 non-null   object\n",
      "dtypes: int64(1), object(3)\n",
      "memory usage: 102.1+ KB\n",
      "None\n",
      "\n",
      "Test Data Sample:\n",
      "   id keyword location                                               text\n",
      "0   0     NaN      NaN                 Just happened a terrible car crash\n",
      "1   2     NaN      NaN  Heard about #earthquake is different cities, s...\n",
      "2   3     NaN      NaN  there is a forest fire at spot pond, geese are...\n",
      "3   9     NaN      NaN           Apocalypse lighting. #Spokane #wildfires\n",
      "4  11     NaN      NaN      Typhoon Soudelor kills 28 in China and Taiwan\n"
     ]
    }
   ],
   "source": [
    "# Display information about the datasets\n",
    "print(\"Train Data Info:\")\n",
    "print(train_data.info())\n",
    "print(\"\\nTrain Data Sample:\")\n",
    "print(train_data.head())\n",
    "\n",
    "print(\"\\nTest Data Info:\")\n",
    "print(test_data.info())\n",
    "print(\"\\nTest Data Sample:\")\n",
    "print(test_data.head())\n"
   ]
  },
  {
   "cell_type": "markdown",
   "id": "34edd98b-e5d5-4a79-a032-70f2274b4476",
   "metadata": {},
   "source": [
    "### Data Overview and Observations\n",
    "The dataset contains 7,613 training entries and 3,263 test entries, with columns `id`, `keyword`, `location`, `text`, and `target` (in the training set). The `text` column holds the tweet content, which we will use as the primary feature for classification. Notably, the `keyword` and `location` columns have substantial missing values, which we may ignore for this initial analysis. The `target` variable is binary, indicating whether a tweet is disaster-related.\n"
   ]
  },
  {
   "cell_type": "markdown",
   "id": "f09890f3-074c-445f-a5bd-2859c0d97722",
   "metadata": {},
   "source": [
    "### Class Distribution\n",
    "I'll visualize the distribution of the `target` variable to check if there is any class imbalance. This helps to understand if there are more tweets labeled as disaster (1) or non-disaster (0), which may affect model training.\n"
   ]
  },
  {
   "cell_type": "code",
   "execution_count": 6,
   "id": "c939e71e-58bf-49cd-8165-1e09a315efae",
   "metadata": {},
   "outputs": [
    {
     "data": {
      "image/png": "[encoded data removed]",
      "text/plain": [
       "<Figure size 600x400 with 1 Axes>"
      ]
     },
     "metadata": {},
     "output_type": "display_data"
    }
   ],
   "source": [
    "# Plot class distribution\n",
    "plt.figure(figsize=(6, 4))\n",
    "sns.countplot(x='target', data=train_data)\n",
    "plt.title('Distribution of Classes (Target Variable)')\n",
    "plt.xlabel('Class')\n",
    "plt.ylabel('Count')\n",
    "plt.show()\n"
   ]
  },
  {
   "cell_type": "markdown",
   "id": "e22195df-2421-4c7e-ac92-ce454985e860",
   "metadata": {},
   "source": [
    "## The class distribution plot shows that there is a slight imbalance in the target variable:\n",
    "Class 0 (non-disaster tweets) has a slightly higher count than Class 1 (disaster-related tweets).\n",
    "This imbalance is not extreme, so it likely won't require significant adjustments like oversampling or undersampling. that said, it’s worth looking out as it could still slightly affect the model's performance, especially if the model tends to favor the majority class."
   ]
  },
  {
   "cell_type": "markdown",
   "id": "bde22aca-c1c8-490c-9b6a-fff48bc5ada3",
   "metadata": {},
   "source": [
    "### Text Length Distribution\n",
    "We analyze the length of each tweet in the `text` column. This information can help identify any outliers in tweet length and guide decisions on input length for the model.\n"
   ]
  },
  {
   "cell_type": "code",
   "execution_count": 7,
   "id": "43e5b048-7ed8-4f9f-adfa-493ffa32da5c",
   "metadata": {},
   "outputs": [
    {
     "data": {
      "image/png": "[encoded data removed]",
      "text/plain": [
       "<Figure size 1000x600 with 1 Axes>"
      ]
     },
     "metadata": {},
     "output_type": "display_data"
    }
   ],
   "source": [
    "# Adding a column for text length in the training data\n",
    "train_data['text_length'] = train_data['text'].apply(len)\n",
    "\n",
    "# Plotting the distribution of text length\n",
    "plt.figure(figsize=(10, 6))\n",
    "sns.histplot(train_data['text_length'], bins=50, kde=True)\n",
    "plt.title('Text Length Distribution')\n",
    "plt.xlabel('Length of Text')\n",
    "plt.ylabel('Frequency')\n",
    "plt.show()\n"
   ]
  },
  {
   "cell_type": "markdown",
   "id": "548d6bd4-e897-4057-803e-bd063ff021e1",
   "metadata": {},
   "source": [
    "### Text Length Distribution Analysis\n",
    "\n",
    "The histogram above illustrates the distribution of tweet lengths within the dataset. Key observations include:\n",
    "\n",
    "1. **Distribution Shape**:\n",
    "   - The distribution of tweet lengths is slightly right-skewed, with a significant concentration of tweets having lengths between 100 and 140 characters. This peak near 140 characters aligns with Twitter's former character limit, indicating that many users utilize the maximum space available when tweeting.\n",
    "\n",
    "2. **Implications for Model Training**:\n",
    "   - The consistency in tweet length means that models like Dense Neural Networks, which do not require sequence-based padding, can handle the input effectively. This also simplifies text processing for token-based embeddings (e.g., TF-IDF), as there’s minimal variation in input size.\n",
    "   \n",
    "3. **Considerations for Sequence Models**:\n",
    "   - If we were to use a sequential model (e.g., RNN, LSTM), we could standardize the input length to around 140 characters to cover the majority of tweets without significant truncation or excessive padding. This approach would help maintain the integrity of the text while ensuring uniform input sizes for the model.\n",
    "\n",
    "Overall, the length distribution suggests that a significant portion of tweets falls within a manageable character range, supporting the choice of both TF-IDF and word-based embeddings.\n"
   ]
  },
  {
   "cell_type": "markdown",
   "id": "fb1e63e8-35cb-4166-90e9-a646dd211693",
   "metadata": {},
   "source": [
    "### Text Cleaning\n",
    "To prepare the tweets for modeling, we clean the text by removing special characters, punctuation, and excess whitespace. We also lowercase all text to ensure consistency.\n"
   ]
  },
  {
   "cell_type": "code",
   "execution_count": 8,
   "id": "5fcabad5-7636-4542-9bed-d4a9fccdb569",
   "metadata": {},
   "outputs": [],
   "source": [
    "# Define a function to clean the text\n",
    "def preprocess_text(text):\n",
    "    text = text.lower()  # Convert to lowercase\n",
    "    text = re.sub(r'\\W', ' ', text)  # Remove non-word characters\n",
    "    text = re.sub(r'\\s+', ' ', text)  # Remove extra whitespace\n",
    "    return text.strip()\n",
    "\n",
    "# Apply preprocessing to the text in train and test sets\n",
    "train_data['clean_text'] = train_data['text'].apply(preprocess_text)\n",
    "test_data['clean_text'] = test_data['text'].apply(preprocess_text)\n"
   ]
  },
  {
   "cell_type": "markdown",
   "id": "7d4292cf-a4b9-485e-8858-c123091b091e",
   "metadata": {},
   "source": [
    "### Text Embedding with TF-IDF\n",
    "We convert the cleaned text into numerical format using TF-IDF (Term Frequency-Inverse Document Frequency). TF-IDF gives more weight to words that are unique to each tweet while reducing the weight of common words, making it suitable for this classification task.\n"
   ]
  },
  {
   "cell_type": "code",
   "execution_count": 9,
   "id": "f3e47857-355b-47f8-9ea4-107fc7520b3f",
   "metadata": {},
   "outputs": [],
   "source": [
    "# TF-IDF Vectorization on the clean text\n",
    "tfidf = TfidfVectorizer(max_features=5000)\n",
    "X = tfidf.fit_transform(train_data['clean_text']).toarray()\n",
    "y = train_data['target']  # Target labels\n"
   ]
  },
  {
   "cell_type": "markdown",
   "id": "db153313-a925-451a-a538-2d3656655fdd",
   "metadata": {},
   "source": [
    "### Train-Test Split\n",
    "Split the data into training and validation sets.\n",
    "The validation set will help evaluate model performance on unseen data,this will give an idea of how well the model generalizes.\n"
   ]
  },
  {
   "cell_type": "code",
   "execution_count": 10,
   "id": "fb2f8fe4-4f00-46bd-b18d-38599e77c86c",
   "metadata": {},
   "outputs": [],
   "source": [
    "# Splitting data for training and validation\n",
    "X_train, X_val, y_train, y_val = train_test_split(X, y, test_size=0.2, random_state=42)\n"
   ]
  },
  {
   "cell_type": "markdown",
   "id": "05c94cf3-c939-46c4-9eb0-35301771056a",
   "metadata": {},
   "source": [
    "### Model Architecture and Embedding Choice\n",
    "\n",
    "#### I. Model Architecture and Reasoning\n",
    "\n",
    "For this text classification problem, I chose a **Dense Neural Network** architecture with fully connected layers. The model is structured as follows:\n",
    "\n",
    "1. **Input Layer**:\n",
    "   - The model takes TF-IDF transformed vectors as input, which represent the tweets in numerical form. The input shape matches the number of TF-IDF features (5,000 in this case).\n",
    "\n",
    "2. **Hidden Layers**:\n",
    "   - **Dense Layers** with ReLU activation: Two dense layers with 128 and 64 neurons respectively help the model learn high-level, non-linear relationships between TF-IDF features. ReLU (Rectified Linear Unit) activation is used to introduce non-linearity, which allows the network to model complex patterns.\n",
    "   - **Dropout Layers**: To mitigate overfitting, I incorporated dropout layers with a 50% dropout rate after each dense layer. Dropout works by randomly disabling a fraction of neurons during each training iteration, which forces the model to learn more robust and generalized features.\n",
    "\n",
    "3. **Output Layer**:\n",
    "   - A single neuron with Sigmoid activation outputs a probability between 0 and 1, representing the likelihood that a tweet is disaster-related. This is ideal for binary classification, as it allows the model to produce a clear decision boundary for each tweet.\n",
    "\n",
    "**Reasoning**:\n",
    "- The choice of a Dense Neural Network is based on the TF-IDF representation of text, which provides fixed-length feature vectors for each tweet. Since the TF-IDF vectors do not retain sequential information, using recurrent layers (e.g., LSTM or GRU) is not necessary. Dense layers can effectively learn from these fixed-length vectors and make them a good fit for this model.\n",
    "- Dropout layers are included to reduce overfitting, especially given the relatively small dataset size.\n",
    "\n",
    "---\n",
    "\n",
    "#### II. Word Embedding Choice\n",
    "\n",
    "For this task, I used **TF-IDF (Term Frequency - Inverse Document Frequency)** to convert the text data into numerical form. TF-IDF is a simple yet effective embedding method, especially for short text classification, such as tweets. Here’s an overview of TF-IDF and other common embedding methods:\n",
    "\n",
    "1. **TF-IDF (Term Frequency - Inverse Document Frequency)**:\n",
    "   - TF-IDF represents each word's relevance in a document relative to its overall occurrence across all documents. It has two components:\n",
    "     - **Term Frequency (TF)**: Measures the frequency of each word within a specific document.\n",
    "     - **Inverse Document Frequency (IDF)**: Weights each word inversely to its frequency across all documents, so commonly used words (e.g., \"the,\" \"is\") receive lower scores.\n",
    "   - **Reasoning**: TF-IDF highlights unique, informative words that differentiate disaster-related tweets from non-disaster tweets. It’s computationally efficient, making it suitable for initial model iterations.\n",
    "\n",
    "2. **Alternative Embeddings**:\n",
    "   - **GloVe (Global Vectors for Word Representation)**:\n",
    "     - GloVe is a pre-trained embedding that captures semantic relationships by training on a large corpus. It creates dense vector representations for words based on their co-occurrence, which captures global statistical information about words in the corpus.\n",
    "     - **Usage**: GloVe could be beneficial for tasks where understanding word context and relationships is essential. It is commonly used in conjunction with sequential models, like LSTMs or GRUs.\n",
    "   \n",
    "   - **Word2Vec**:\n",
    "     - Word2Vec also creates dense embeddings by training words in context, capturing the similarity between words based on their surrounding words. Word2Vec embeddings are often used with RNNs to provide a deeper understanding of context in text data.\n",
    "     - **Usage**: Similar to GloVe, Word2Vec embeddings are beneficial for longer or complex texts where context provides additional meaning. They are also effective when paired with sequential models.\n",
    "\n",
    "In summary, **TF-IDF** was chosen due to its simplicity and effectiveness in representing short text data. If future iterations require capturing contextual relationships in tweets, **GloVe** or **Word2Vec** embeddings with an RNN-based architecture (e.g., LSTM or GRU) could be explored.\n",
    "\n",
    "---\n",
    "\n",
    "#### III. References\n",
    "- Vector space model, Wikipedia\n",
    "- Matrices, Vector Spaces, andInformation Retrieval; Michael W. Berry, Zlatko Drmac, Elizabeth R. Jessup\n",
    "- Pennington, J., Socher, R., & Manning, C. D. (2014). **GloVe: Global Vectors for Word Representation**. In *Proceedings of the 2014 Conference on Empirical Methods in Natural Language Processing (EMNLP)*.\n",
    "- Mikolov, T., Chen, K., Corrado, G., & Dean, J. (2013). **Efficient Estimation of Word Representations in Vector Space**. arXiv preprint arXiv:1301.3781.\n"
   ]
  },
  {
   "cell_type": "markdown",
   "id": "88e8027b-cb08-4551-9a41-a8d25205ecfa",
   "metadata": {},
   "source": [
    "### Model Building and Compilation\n",
    "I'll construct a simple dense neural network with two hidden layers, each followed by dropout to prevent overfitting. The model is compiled with the Adam optimizer and binary cross-entropy loss, suitable for binary classification.\n"
   ]
  },
  {
   "cell_type": "code",
   "execution_count": null,
   "id": "a160f0b3-9626-4ae4-9083-2bc3a7a7e1ad",
   "metadata": {},
   "outputs": [],
   "source": [
    "!pip install -U optree\n"
   ]
  },
  {
   "cell_type": "code",
   "execution_count": null,
   "id": "712cf4c4-5125-4af7-a1aa-c5e715b86bcd",
   "metadata": {},
   "outputs": [],
   "source": [
    "!pip install -U tensorflow"
   ]
  },
  {
   "cell_type": "code",
   "execution_count": null,
   "id": "3e4b9376-5f78-45e2-afed-054e44f40165",
   "metadata": {},
   "outputs": [],
   "source": [
    "!pip install -U keras\n"
   ]
  },
  {
   "cell_type": "code",
   "execution_count": 12,
   "id": "69524775-fa28-4b5d-b837-e6b61c889375",
   "metadata": {},
   "outputs": [
    {
     "data": {
      "text/html": [
       "<pre style=\"white-space:pre;overflow-x:auto;line-height:normal;font-family:Menlo,'DejaVu Sans Mono',consolas,'Courier New',monospace\"><span style=\"font-weight: bold\">Model: \"sequential_1\"</span>\n",
       "</pre>\n"
      ],
      "text/plain": [
       "\u001b[1mModel: \"sequential_1\"\u001b[0m\n"
      ]
     },
     "metadata": {},
     "output_type": "display_data"
    },
    {
     "data": {
      "text/html": [
       "<pre style=\"white-space:pre;overflow-x:auto;line-height:normal;font-family:Menlo,'DejaVu Sans Mono',consolas,'Courier New',monospace\">┏━━━━━━━━━━━━━━━━━━━━━━━━━━━━━━━━━┳━━━━━━━━━━━━━━━━━━━━━━━━┳━━━━━━━━━━━━━━━┓\n",
       "┃<span style=\"font-weight: bold\"> Layer (type)                    </span>┃<span style=\"font-weight: bold\"> Output Shape           </span>┃<span style=\"font-weight: bold\">       Param # </span>┃\n",
       "┡━━━━━━━━━━━━━━━━━━━━━━━━━━━━━━━━━╇━━━━━━━━━━━━━━━━━━━━━━━━╇━━━━━━━━━━━━━━━┩\n",
       "│ dense_3 (<span style=\"color: #0087ff; text-decoration-color: #0087ff\">Dense</span>)                 │ (<span style=\"color: #00d7ff; text-decoration-color: #00d7ff\">None</span>, <span style=\"color: #00af00; text-decoration-color: #00af00\">128</span>)            │       <span style=\"color: #00af00; text-decoration-color: #00af00\">640,128</span> │\n",
       "├─────────────────────────────────┼────────────────────────┼───────────────┤\n",
       "│ dropout_2 (<span style=\"color: #0087ff; text-decoration-color: #0087ff\">Dropout</span>)             │ (<span style=\"color: #00d7ff; text-decoration-color: #00d7ff\">None</span>, <span style=\"color: #00af00; text-decoration-color: #00af00\">128</span>)            │             <span style=\"color: #00af00; text-decoration-color: #00af00\">0</span> │\n",
       "├─────────────────────────────────┼────────────────────────┼───────────────┤\n",
       "│ dense_4 (<span style=\"color: #0087ff; text-decoration-color: #0087ff\">Dense</span>)                 │ (<span style=\"color: #00d7ff; text-decoration-color: #00d7ff\">None</span>, <span style=\"color: #00af00; text-decoration-color: #00af00\">64</span>)             │         <span style=\"color: #00af00; text-decoration-color: #00af00\">8,256</span> │\n",
       "├─────────────────────────────────┼────────────────────────┼───────────────┤\n",
       "│ dropout_3 (<span style=\"color: #0087ff; text-decoration-color: #0087ff\">Dropout</span>)             │ (<span style=\"color: #00d7ff; text-decoration-color: #00d7ff\">None</span>, <span style=\"color: #00af00; text-decoration-color: #00af00\">64</span>)             │             <span style=\"color: #00af00; text-decoration-color: #00af00\">0</span> │\n",
       "├─────────────────────────────────┼────────────────────────┼───────────────┤\n",
       "│ dense_5 (<span style=\"color: #0087ff; text-decoration-color: #0087ff\">Dense</span>)                 │ (<span style=\"color: #00d7ff; text-decoration-color: #00d7ff\">None</span>, <span style=\"color: #00af00; text-decoration-color: #00af00\">1</span>)              │            <span style=\"color: #00af00; text-decoration-color: #00af00\">65</span> │\n",
       "└─────────────────────────────────┴────────────────────────┴───────────────┘\n",
       "</pre>\n"
      ],
      "text/plain": [
       "┏━━━━━━━━━━━━━━━━━━━━━━━━━━━━━━━━━┳━━━━━━━━━━━━━━━━━━━━━━━━┳━━━━━━━━━━━━━━━┓\n",
       "┃\u001b[1m \u001b[0m\u001b[1mLayer (type)                   \u001b[0m\u001b[1m \u001b[0m┃\u001b[1m \u001b[0m\u001b[1mOutput Shape          \u001b[0m\u001b[1m \u001b[0m┃\u001b[1m \u001b[0m\u001b[1m      Param #\u001b[0m\u001b[1m \u001b[0m┃\n",
       "┡━━━━━━━━━━━━━━━━━━━━━━━━━━━━━━━━━╇━━━━━━━━━━━━━━━━━━━━━━━━╇━━━━━━━━━━━━━━━┩\n",
       "│ dense_3 (\u001b[38;5;33mDense\u001b[0m)                 │ (\u001b[38;5;45mNone\u001b[0m, \u001b[38;5;34m128\u001b[0m)            │       \u001b[38;5;34m640,128\u001b[0m │\n",
       "├─────────────────────────────────┼────────────────────────┼───────────────┤\n",
       "│ dropout_2 (\u001b[38;5;33mDropout\u001b[0m)             │ (\u001b[38;5;45mNone\u001b[0m, \u001b[38;5;34m128\u001b[0m)            │             \u001b[38;5;34m0\u001b[0m │\n",
       "├─────────────────────────────────┼────────────────────────┼───────────────┤\n",
       "│ dense_4 (\u001b[38;5;33mDense\u001b[0m)                 │ (\u001b[38;5;45mNone\u001b[0m, \u001b[38;5;34m64\u001b[0m)             │         \u001b[38;5;34m8,256\u001b[0m │\n",
       "├─────────────────────────────────┼────────────────────────┼───────────────┤\n",
       "│ dropout_3 (\u001b[38;5;33mDropout\u001b[0m)             │ (\u001b[38;5;45mNone\u001b[0m, \u001b[38;5;34m64\u001b[0m)             │             \u001b[38;5;34m0\u001b[0m │\n",
       "├─────────────────────────────────┼────────────────────────┼───────────────┤\n",
       "│ dense_5 (\u001b[38;5;33mDense\u001b[0m)                 │ (\u001b[38;5;45mNone\u001b[0m, \u001b[38;5;34m1\u001b[0m)              │            \u001b[38;5;34m65\u001b[0m │\n",
       "└─────────────────────────────────┴────────────────────────┴───────────────┘\n"
      ]
     },
     "metadata": {},
     "output_type": "display_data"
    },
    {
     "data": {
      "text/html": [
       "<pre style=\"white-space:pre;overflow-x:auto;line-height:normal;font-family:Menlo,'DejaVu Sans Mono',consolas,'Courier New',monospace\"><span style=\"font-weight: bold\"> Total params: </span><span style=\"color: #00af00; text-decoration-color: #00af00\">648,449</span> (2.47 MB)\n",
       "</pre>\n"
      ],
      "text/plain": [
       "\u001b[1m Total params: \u001b[0m\u001b[38;5;34m648,449\u001b[0m (2.47 MB)\n"
      ]
     },
     "metadata": {},
     "output_type": "display_data"
    },
    {
     "data": {
      "text/html": [
       "<pre style=\"white-space:pre;overflow-x:auto;line-height:normal;font-family:Menlo,'DejaVu Sans Mono',consolas,'Courier New',monospace\"><span style=\"font-weight: bold\"> Trainable params: </span><span style=\"color: #00af00; text-decoration-color: #00af00\">648,449</span> (2.47 MB)\n",
       "</pre>\n"
      ],
      "text/plain": [
       "\u001b[1m Trainable params: \u001b[0m\u001b[38;5;34m648,449\u001b[0m (2.47 MB)\n"
      ]
     },
     "metadata": {},
     "output_type": "display_data"
    },
    {
     "data": {
      "text/html": [
       "<pre style=\"white-space:pre;overflow-x:auto;line-height:normal;font-family:Menlo,'DejaVu Sans Mono',consolas,'Courier New',monospace\"><span style=\"font-weight: bold\"> Non-trainable params: </span><span style=\"color: #00af00; text-decoration-color: #00af00\">0</span> (0.00 B)\n",
       "</pre>\n"
      ],
      "text/plain": [
       "\u001b[1m Non-trainable params: \u001b[0m\u001b[38;5;34m0\u001b[0m (0.00 B)\n"
      ]
     },
     "metadata": {},
     "output_type": "display_data"
    }
   ],
   "source": [
    "from tensorflow.keras import Input\n",
    "\n",
    "# Rebuilding the model with Input layer\n",
    "model = Sequential([\n",
    "    Input(shape=(X_train.shape[1],)),  # Explicit input layer\n",
    "    Dense(128, activation='relu'),\n",
    "    Dropout(0.5),  # Dropout to prevent overfitting\n",
    "    Dense(64, activation='relu'),\n",
    "    Dropout(0.5),\n",
    "    Dense(1, activation='sigmoid')  # Output layer for binary classification\n",
    "])\n",
    "\n",
    "# Compiling the model\n",
    "model.compile(optimizer='adam', loss='binary_crossentropy', metrics=['accuracy'])\n",
    "\n",
    "# Display the model architecture\n",
    "model.summary()\n"
   ]
  },
  {
   "cell_type": "markdown",
   "id": "303d28ed-d4e2-49eb-a400-0a63916921d9",
   "metadata": {},
   "source": [
    "##### The summary indicates that the architecture has been correctly defined, there are two hidden dense layers, The first dense layer has 128 units and requires 640,128 parameters. The second dense layer has 64 units and requires 8,256 parameters.\n"
   ]
  },
  {
   "cell_type": "markdown",
   "id": "a060c4c9-680c-4e3d-9040-f9aab983e4f7",
   "metadata": {},
   "source": [
    "#### Next...\n",
    "- Train the Model with using training data (X_train and y_train) to train the model.\n",
    "- Set up validation data (X_val and y_val) to monitor performance on unseen data during training.\n"
   ]
  },
  {
   "cell_type": "code",
   "execution_count": 14,
   "id": "abdd030c-1506-4ff8-9b14-e0001e4d4760",
   "metadata": {},
   "outputs": [
    {
     "name": "stdout",
     "output_type": "stream",
     "text": [
      "Epoch 1/5\n",
      "\u001b[1m96/96\u001b[0m \u001b[32m━━━━━━━━━━━━━━━━━━━━\u001b[0m\u001b[37m\u001b[0m \u001b[1m1s\u001b[0m 3ms/step - accuracy: 0.5760 - loss: 0.6725 - val_accuracy: 0.7938 - val_loss: 0.5226\n",
      "Epoch 2/5\n",
      "\u001b[1m96/96\u001b[0m \u001b[32m━━━━━━━━━━━━━━━━━━━━\u001b[0m\u001b[37m\u001b[0m \u001b[1m0s\u001b[0m 2ms/step - accuracy: 0.8211 - loss: 0.4404 - val_accuracy: 0.7997 - val_loss: 0.4596\n",
      "Epoch 3/5\n",
      "\u001b[1m96/96\u001b[0m \u001b[32m━━━━━━━━━━━━━━━━━━━━\u001b[0m\u001b[37m\u001b[0m \u001b[1m0s\u001b[0m 2ms/step - accuracy: 0.8843 - loss: 0.3025 - val_accuracy: 0.8004 - val_loss: 0.4800\n",
      "Epoch 4/5\n",
      "\u001b[1m96/96\u001b[0m \u001b[32m━━━━━━━━━━━━━━━━━━━━\u001b[0m\u001b[37m\u001b[0m \u001b[1m0s\u001b[0m 2ms/step - accuracy: 0.9165 - loss: 0.2267 - val_accuracy: 0.7899 - val_loss: 0.5171\n",
      "Epoch 5/5\n",
      "\u001b[1m96/96\u001b[0m \u001b[32m━━━━━━━━━━━━━━━━━━━━\u001b[0m\u001b[37m\u001b[0m \u001b[1m0s\u001b[0m 2ms/step - accuracy: 0.9342 - loss: 0.1849 - val_accuracy: 0.7761 - val_loss: 0.5901\n"
     ]
    }
   ],
   "source": [
    "# Training the model for a few epochs\n",
    "history = model.fit(X_train, y_train, epochs=5, validation_data=(X_val, y_val), batch_size=64)\n"
   ]
  },
  {
   "cell_type": "code",
   "execution_count": 15,
   "id": "af34035e-e0ac-431a-97ac-0f2a503f669d",
   "metadata": {},
   "outputs": [
    {
     "name": "stdout",
     "output_type": "stream",
     "text": [
      "\u001b[1m48/48\u001b[0m \u001b[32m━━━━━━━━━━━━━━━━━━━━\u001b[0m\u001b[37m\u001b[0m \u001b[1m0s\u001b[0m 810us/step\n",
      "Validation Accuracy: 0.7760998030203545\n",
      "              precision    recall  f1-score   support\n",
      "\n",
      "           0       0.81      0.80      0.80       874\n",
      "           1       0.74      0.74      0.74       649\n",
      "\n",
      "    accuracy                           0.78      1523\n",
      "   macro avg       0.77      0.77      0.77      1523\n",
      "weighted avg       0.78      0.78      0.78      1523\n",
      "\n"
     ]
    }
   ],
   "source": [
    "# Predicting on the validation data\n",
    "y_pred = (model.predict(X_val) > 0.5).astype(\"int32\")\n",
    "\n",
    "# Evaluating model performance\n",
    "print(\"Validation Accuracy:\", accuracy_score(y_val, y_pred))\n",
    "print(classification_report(y_val, y_pred))\n"
   ]
  },
  {
   "cell_type": "code",
   "execution_count": 16,
   "id": "c7072552-0f5f-4d3b-be55-1b94ee80e5f1",
   "metadata": {},
   "outputs": [
    {
     "data": {
      "image/png": "[encoded data removed]",
      "text/plain": [
       "<Figure size 1400x500 with 2 Axes>"
      ]
     },
     "metadata": {},
     "output_type": "display_data"
    }
   ],
   "source": [
    "# Plot training and validation accuracy and loss\n",
    "plt.figure(figsize=(14, 5))\n",
    "\n",
    "# Accuracy plot\n",
    "plt.subplot(1, 2, 1)\n",
    "plt.plot(history.history['accuracy'], label='Training Accuracy')\n",
    "plt.plot(history.history['val_accuracy'], label='Validation Accuracy')\n",
    "plt.title('Training and Validation Accuracy')\n",
    "plt.xlabel('Epoch')\n",
    "plt.ylabel('Accuracy')\n",
    "plt.legend()\n",
    "\n",
    "# Loss plot\n",
    "plt.subplot(1, 2, 2)\n",
    "plt.plot(history.history['loss'], label='Training Loss')\n",
    "plt.plot(history.history['val_loss'], label='Validation Loss')\n",
    "plt.title('Training and Validation Loss')\n",
    "plt.xlabel('Epoch')\n",
    "plt.ylabel('Loss')\n",
    "plt.legend()\n",
    "\n",
    "plt.show()\n"
   ]
  },
  {
   "cell_type": "markdown",
   "id": "b818e2e7-07d6-4333-b7d2-0aa0a97c79b8",
   "metadata": {},
   "source": [
    "The training and validation curves indicate a common issue with overfitting. Here’s a breakdown of the plots:\n",
    "\n",
    "Training and Validation Accuracy:\n",
    "\n",
    "The training accuracy continues to improve with each epoch, approaching close to 0.9.\n",
    "However, the validation accuracy plateaus around 0.8 and even begins to decrease slightly by the end of training. This suggests that the model is learning patterns in the training data but not generalizing well to new data.\n",
    "Training and Validation Loss:\n",
    "\n",
    "The training loss decreases steadily, indicating that the model is effectively minimizing the error on the training data.\n",
    "However, the validation loss starts to increase after the initial epochs, which is a classic sign of overfitting. This means that the model is “memorizing” the training data instead of learning general patterns."
   ]
  },
  {
   "cell_type": "markdown",
   "id": "3407febe-3030-46e3-81a1-4acaf64a8c2b",
   "metadata": {},
   "source": [
    "#### Automate the process of testing multiple configurations to find the best solution for reducing overfitting"
   ]
  },
  {
   "cell_type": "code",
   "execution_count": 19,
   "id": "98960240-5770-402b-80c9-06c1c0a13558",
   "metadata": {},
   "outputs": [
    {
     "name": "stdout",
     "output_type": "stream",
     "text": [
      "Testing configuration: Dense units = [128, 64], Dropout rate = 0.5\n",
      "Validation Accuracy: 0.7965\n",
      "Testing configuration: Dense units = [64, 32], Dropout rate = 0.5\n",
      "Validation Accuracy: 0.8011\n",
      "Testing configuration: Dense units = [64, 32], Dropout rate = 0.6\n",
      "Validation Accuracy: 0.8083\n",
      "Testing configuration: Dense units = [32, 16], Dropout rate = 0.5\n",
      "Validation Accuracy: 0.8129\n",
      "Testing configuration: Dense units = [32, 16], Dropout rate = 0.6\n",
      "Validation Accuracy: 0.7991\n",
      "\n",
      "Best Configuration:\n",
      "Dense units: [32, 16], Dropout rate: 0.5\n",
      "Best Validation Accuracy: 0.8129\n"
     ]
    }
   ],
   "source": [
    "from tensorflow.keras.callbacks import EarlyStopping\n",
    "from tensorflow.keras import Input\n",
    "import numpy as np\n",
    "\n",
    "# Define configurations to test\n",
    "configurations = [\n",
    "    {\"dense_units\": [128, 64], \"dropout_rate\": 0.5},\n",
    "    {\"dense_units\": [64, 32], \"dropout_rate\": 0.5},\n",
    "    {\"dense_units\": [64, 32], \"dropout_rate\": 0.6},\n",
    "    {\"dense_units\": [32, 16], \"dropout_rate\": 0.5},\n",
    "    {\"dense_units\": [32, 16], \"dropout_rate\": 0.6},\n",
    "]\n",
    "\n",
    "# Initialize variables to store the best configuration and performance\n",
    "best_val_accuracy = 0\n",
    "best_config = None\n",
    "best_model = None\n",
    "\n",
    "# Early stopping callback\n",
    "early_stopping = EarlyStopping(monitor='val_loss', patience=3, restore_best_weights=True)\n",
    "\n",
    "# Loop through each configuration\n",
    "for config in configurations:\n",
    "    print(f\"Testing configuration: Dense units = {config['dense_units']}, Dropout rate = {config['dropout_rate']}\")\n",
    "\n",
    "    # Build the model for each configuration\n",
    "    model = Sequential()\n",
    "    model.add(Input(shape=(X_train.shape[1],)))\n",
    "    for units in config['dense_units']:\n",
    "        model.add(Dense(units, activation='relu'))\n",
    "        model.add(Dropout(config['dropout_rate']))\n",
    "    model.add(Dense(1, activation='sigmoid'))\n",
    "\n",
    "    # Compile the model\n",
    "    model.compile(optimizer='adam', loss='binary_crossentropy', metrics=['accuracy'])\n",
    "\n",
    "    # Train the model with early stopping\n",
    "    history = model.fit(\n",
    "        X_train, y_train,\n",
    "        epochs=20,\n",
    "        validation_data=(X_val, y_val),\n",
    "        batch_size=64,\n",
    "        callbacks=[early_stopping],\n",
    "        verbose=0  # Suppress output for clarity\n",
    "    )\n",
    "\n",
    "    # Evaluate the model on the validation set\n",
    "    val_accuracy = max(history.history['val_accuracy'])\n",
    "    print(f\"Validation Accuracy: {val_accuracy:.4f}\")\n",
    "\n",
    "    # Check if this configuration is the best so far\n",
    "    if val_accuracy > best_val_accuracy:\n",
    "        best_val_accuracy = val_accuracy\n",
    "        best_config = config\n",
    "        best_model = model\n",
    "\n",
    "print(\"\\nBest Configuration:\")\n",
    "print(f\"Dense units: {best_config['dense_units']}, Dropout rate: {best_config['dropout_rate']}\")\n",
    "print(f\"Best Validation Accuracy: {best_val_accuracy:.4f}\")\n"
   ]
  },
  {
   "cell_type": "markdown",
   "id": "7cc1423a-864e-49cf-9981-c197be8ff9bc",
   "metadata": {},
   "source": [
    "### The programmatic hyperparameter search has successfully identified the best configuration:\n",
    "\n",
    "Best Configuration Results\n",
    "Dense Units: [32, 16]\n",
    "Dropout Rate: 0.5\n",
    "Best Validation Accuracy: 0.8129\n",
    "This configuration uses fewer neurons in each layer and a moderate dropout rate, which seems to provide a good balance between model complexity and generalization ability.\n",
    "\n"
   ]
  },
  {
   "cell_type": "code",
   "execution_count": 21,
   "id": "ad4c0d79-7db2-40f4-bbeb-4fba01df44b6",
   "metadata": {},
   "outputs": [],
   "source": [
    "# Save the model in the native Keras format\n",
    "best_model.save('best_disaster_tweet_model.keras')\n"
   ]
  },
  {
   "cell_type": "code",
   "execution_count": 23,
   "id": "83a35f30-7acc-4664-afab-45772a61644b",
   "metadata": {},
   "outputs": [
    {
     "name": "stdout",
     "output_type": "stream",
     "text": [
      "\u001b[1m102/102\u001b[0m \u001b[32m━━━━━━━━━━━━━━━━━━━━\u001b[0m\u001b[37m\u001b[0m \u001b[1m0s\u001b[0m 416us/step\n",
      "Submission file 'submission_W4.csv' has been created.\n"
     ]
    }
   ],
   "source": [
    "# Generate predictions on the test data\n",
    "test_predictions = (best_model.predict(X_test) > 0.5).astype(\"int32\")\n",
    "\n",
    "# Prepare submission DataFrame\n",
    "submission = pd.DataFrame({\n",
    "    \"id\": test_data[\"id\"],            # Use 'id' column from the test data\n",
    "    \"target\": test_predictions.flatten()  # Flatten to ensure the correct shape\n",
    "})\n",
    "\n",
    "# Save the submission file as CSV\n",
    "submission.to_csv(\"submission_W4.csv\", index=False)\n",
    "print(\"Submission file 'submission_W4.csv' has been created.\")\n"
   ]
  },
  {
   "cell_type": "code",
   "execution_count": null,
   "id": "056f5db6-401b-45b1-9bba-172d4b9d44cd",
   "metadata": {},
   "outputs": [],
   "source": []
  }
 ],
 "metadata": {
  "kernelspec": {
   "display_name": "Python 3 (ipykernel)",
   "language": "python",
   "name": "python3"
  },
  "language_info": {
   "codemirror_mode": {
    "name": "ipython",
    "version": 3
   },
   "file_extension": ".py",
   "mimetype": "text/x-python",
   "name": "python",
   "nbconvert_exporter": "python",
   "pygments_lexer": "ipython3",
   "version": "3.10.15"
  }
 },
 "nbformat": 4,
 "nbformat_minor": 5
}
